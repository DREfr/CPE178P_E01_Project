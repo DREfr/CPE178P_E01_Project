{
 "cells": [
  {
   "cell_type": "markdown",
   "id": "ac450840-01f4-4a6d-8fce-53c225bc2375",
   "metadata": {},
   "source": [
    "## Load the dataset. This is the preprocessing of the data."
   ]
  },
  {
   "cell_type": "code",
   "execution_count": 1,
   "id": "81d5fbef-cc64-4338-a19c-0128182eab62",
   "metadata": {},
   "outputs": [],
   "source": [
    "import mindspore.dataset as ds\n",
    "import mindspore.dataset.vision as vision\n",
    "import mindspore.dataset.transforms as transforms\n",
    "\n",
    "train_dir = \"dataset/rocks_train\"\n",
    "val_dir = \"dataset/rocks_val\"\n",
    "\n",
    "# Create datasets\n",
    "train_dataset = ds.ImageFolderDataset(train_dir, shuffle=True)\n",
    "val_dataset = ds.ImageFolderDataset(val_dir, shuffle=False)\n",
    "\n",
    "# Define transformations\n",
    "train_transforms = [\n",
    "    vision.Resize((224, 224)),\n",
    "    vision.RandomHorizontalFlip(),\n",
    "    vision.RandomRotation(10),\n",
    "    vision.Rescale(1.0 / 255.0, 0.0),\n",
    "    vision.Normalize(mean=[0.485*255, 0.456*255, 0.406*255],\n",
    "                     std=[0.229*255, 0.224*255, 0.225*255]),\n",
    "    vision.HWC2CHW()\n",
    "]\n",
    "val_transforms = [\n",
    "    vision.Resize((224, 224)),\n",
    "    vision.Rescale(1.0 / 255.0, 0.0),\n",
    "    vision.Normalize(mean=[0.485*255, 0.456*255, 0.406*255],\n",
    "                     std=[0.229*255, 0.224*255, 0.225*255]),\n",
    "    vision.HWC2CHW()\n",
    "]\n",
    "\n",
    "# Apply transformations\n",
    "train_dataset = train_dataset.map(operations=train_transforms, input_columns=\"image\")\n",
    "val_dataset = val_dataset.map(operations=val_transforms, input_columns=\"image\")\n",
    "\n",
    "# Batch\n",
    "train_dataset = train_dataset.batch(32, drop_remainder=True)\n",
    "val_dataset = val_dataset.batch(32, drop_remainder=False)\n"
   ]
  },
  {
   "cell_type": "code",
   "execution_count": null,
   "id": "1a5a6f1e-a50d-4b37-aeb5-80cbbcc7d2d8",
   "metadata": {},
   "outputs": [],
   "source": []
  }
 ],
 "metadata": {
  "kernelspec": {
   "display_name": "Python 3 (ipykernel)",
   "language": "python",
   "name": "python3"
  },
  "language_info": {
   "codemirror_mode": {
    "name": "ipython",
    "version": 3
   },
   "file_extension": ".py",
   "mimetype": "text/x-python",
   "name": "python",
   "nbconvert_exporter": "python",
   "pygments_lexer": "ipython3",
   "version": "3.11.13"
  }
 },
 "nbformat": 4,
 "nbformat_minor": 5
}
